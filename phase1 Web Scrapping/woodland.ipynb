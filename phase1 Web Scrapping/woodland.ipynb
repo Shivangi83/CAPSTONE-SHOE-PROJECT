{
 "cells": [
  {
   "cell_type": "code",
   "execution_count": 1,
   "id": "6dd7551b",
   "metadata": {},
   "outputs": [],
   "source": [
    "from selenium import webdriver"
   ]
  },
  {
   "cell_type": "code",
   "execution_count": 2,
   "id": "56c7fcca",
   "metadata": {},
   "outputs": [],
   "source": [
    "from selenium import webdriver\n",
    "from selenium.webdriver.chrome.service import Service as ChromeService\n",
    "from webdriver_manager.chrome import ChromeDriverManager"
   ]
  },
  {
   "cell_type": "code",
   "execution_count": 3,
   "id": "9ab970c1",
   "metadata": {},
   "outputs": [],
   "source": [
    "driver = webdriver.Chrome(service=ChromeService(ChromeDriverManager().install()))"
   ]
  },
  {
   "cell_type": "code",
   "execution_count": 4,
   "id": "8d3ce6ac",
   "metadata": {},
   "outputs": [],
   "source": [
    "driver.get('https://www.woodlandworldwide.com/')\n",
    "driver.implicitly_wait(10)"
   ]
  },
  {
   "cell_type": "code",
   "execution_count": 5,
   "id": "fd353614",
   "metadata": {},
   "outputs": [],
   "source": [
    "import selenium\n",
    "import pandas as pd\n",
    "import warnings\n",
    "warnings.filterwarnings('ignore')\n",
    "from selenium.webdriver.common.by import By\n",
    "import time"
   ]
  },
  {
   "cell_type": "code",
   "execution_count": 21,
   "id": "b7a21448",
   "metadata": {},
   "outputs": [
    {
     "name": "stdout",
     "output_type": "stream",
     "text": [
      "['Grey Sneakers for Men', 'Black high-top boots for women', 'Olive/black sneakers for men', 'Sand Sports Shoe for men', 'Blue sneakers for men', 'Light purple casual sneaker for women', 'Grey/Green Sports Shoe for men', 'Navy Slip-on shoe for men', 'Navy Slip-on shoes', 'Navy Casual sneaker for men', 'Dgrey Slip-on Shoe for Men', 'Blue/Grey Sneaker for men', 'Beige sock knit sneaker', 'Grey/Pink sneakers for women', 'Green casual sneaker for women', 'Blue casual sneakers for men', 'Taupe Sports shoe for men', 'Black/Grey Sports Shoe for men', 'Olive Sneakers for men', 'Grey sneakers for men', 'Grey Sneaker for men', 'Brown Sports Shoe for men', 'Navy sneakers for men', 'Olive/Black Sneaker for men', 'White Sports Shoe for Men', 'Black Sneaker for men', 'Navy Sports Shoe for men', 'Black sneakers for Men', 'Red/Navy Sneaker for men', 'Black Slip-on shoes', 'Navy Sneaker for men', 'Navy Sports Shoe for Men', 'Grey high ankle sneakers', 'Fuchsia casual sneaker', 'Blue Sports Sneaker for Women', 'Navy Slip-on Shoe for Men', 'Navy and grey Sneakers for men', 'Lbrown/white Sports Sneaker for men', 'White Sneakers for Men', 'Camel casual shoe for men', 'Dark grey casual sneakers for men', 'Grey Sneaker for men', 'Navy /Brown Sneaker for men', 'Pink sneakers for women', 'Navy casual sneaker', 'Khaki/Camel Sports Sneaker for men', 'Grey sneakers for men', 'Navy sneaker for men', 'Black sneakers for men', 'Light grey sneakers for men', 'White Slip-on Shoes for men', 'Grey Sneaker for Men', 'Navy sneakers for Men', 'Navy Sneaker for Men', 'White Sports Shoe for women', 'Army Sneaker for men', 'Grey/Black Sneaker for men', 'Navy Sports Sneaker for men', 'Olive casual sneaker', 'Navy sneakers for men', 'Teal Sneaker for men', 'Black sneakers for men', 'Pink Slip-on shoes', 'Black casual sneaker', 'Black sneakers for men', 'Grey/orange casual sneaker for men', 'Sand Sports Shoe for men', 'Black Slip-on Shoe for Men']\n"
     ]
    }
   ],
   "source": [
    "woodland_shoes = driver.find_elements(By.XPATH ,'//p[@class=\"productcardplp_productname__F8lks\"]')\n",
    "shoe_texts = []\n",
    "\n",
    "for shoe_element in woodland_shoes:\n",
    "    shoe_text = shoe_element.text\n",
    "    shoe_texts.append(shoe_text)\n",
    "\n",
    "print(shoe_texts)\n"
   ]
  },
  {
   "cell_type": "code",
   "execution_count": 22,
   "id": "fd00a8c4",
   "metadata": {},
   "outputs": [
    {
     "name": "stdout",
     "output_type": "stream",
     "text": [
      "['₹2995₹2021', '₹6995₹3147', '₹3795₹2049', '₹7995₹4317', '₹6995₹2250', '₹6995₹3147', '₹7995₹4317', '₹2295₹1606', '₹2995₹1617', '₹6995₹3147', '₹2795₹2096', '₹2795₹1509', '₹5995₹1350', '₹6995₹3147', '₹5995₹1350', '₹6995₹2250', '₹7995₹4317', '₹7995₹4317', '₹2495₹1871', '₹7995₹3597', '₹3595₹2696', '₹7995₹4317', '₹2895₹2316', '₹2995₹1617', '₹2795', '₹3295₹2471', '₹7995₹4317', '₹2995₹2246', '₹2895₹1563', '₹2795₹2096', '₹2995₹2396', '₹2495₹1871', '₹6995₹2250', '₹6495₹2922', '₹6495₹3507', '₹2995₹2246', '₹7495₹3372', '₹7995₹4317', '₹2995₹2021', '₹7495₹3372', '₹3295₹2636', '₹3295₹2636', '₹7995₹4317', '₹6995₹3147', '₹6995₹2700', '₹7995₹4317', '₹7495₹3372', '₹2495₹1684', '₹6995₹2250', '₹2695₹2156', '₹2295₹1549', '₹2995₹2246', '₹2795₹1886', '₹2495₹1871', '₹6495₹3507', '₹7995₹4317', '₹3695₹2956', '₹7995₹4317', '₹4995₹1800', '₹3295₹1779', '₹2195₹1536', '₹7995₹3597', '₹4995₹1350', '₹6995₹2700', '₹2795₹2236', '₹7995₹3597', '₹7995₹4317', '₹2095₹1571']\n"
     ]
    }
   ],
   "source": [
    "price = driver.find_elements(By.XPATH, '//p[@class=\"productcardplp_productprice__jdlz6\"]')\n",
    "\n",
    "\n",
    "price_texts = []\n",
    "for price_element in price:\n",
    "    price_text = price_element.text\n",
    "    price_texts.append(price_text)\n",
    "\n",
    "print(price_texts)\n"
   ]
  },
  {
   "cell_type": "code",
   "execution_count": 23,
   "id": "6456cb00",
   "metadata": {},
   "outputs": [
    {
     "data": {
      "text/html": [
       "<div>\n",
       "<style scoped>\n",
       "    .dataframe tbody tr th:only-of-type {\n",
       "        vertical-align: middle;\n",
       "    }\n",
       "\n",
       "    .dataframe tbody tr th {\n",
       "        vertical-align: top;\n",
       "    }\n",
       "\n",
       "    .dataframe thead th {\n",
       "        text-align: right;\n",
       "    }\n",
       "</style>\n",
       "<table border=\"1\" class=\"dataframe\">\n",
       "  <thead>\n",
       "    <tr style=\"text-align: right;\">\n",
       "      <th></th>\n",
       "      <th>Name</th>\n",
       "      <th>Price</th>\n",
       "    </tr>\n",
       "  </thead>\n",
       "  <tbody>\n",
       "    <tr>\n",
       "      <th>0</th>\n",
       "      <td>&lt;selenium.webdriver.remote.webelement.WebEleme...</td>\n",
       "      <td>&lt;selenium.webdriver.remote.webelement.WebEleme...</td>\n",
       "    </tr>\n",
       "    <tr>\n",
       "      <th>1</th>\n",
       "      <td>&lt;selenium.webdriver.remote.webelement.WebEleme...</td>\n",
       "      <td>&lt;selenium.webdriver.remote.webelement.WebEleme...</td>\n",
       "    </tr>\n",
       "    <tr>\n",
       "      <th>2</th>\n",
       "      <td>&lt;selenium.webdriver.remote.webelement.WebEleme...</td>\n",
       "      <td>&lt;selenium.webdriver.remote.webelement.WebEleme...</td>\n",
       "    </tr>\n",
       "    <tr>\n",
       "      <th>3</th>\n",
       "      <td>&lt;selenium.webdriver.remote.webelement.WebEleme...</td>\n",
       "      <td>&lt;selenium.webdriver.remote.webelement.WebEleme...</td>\n",
       "    </tr>\n",
       "    <tr>\n",
       "      <th>4</th>\n",
       "      <td>&lt;selenium.webdriver.remote.webelement.WebEleme...</td>\n",
       "      <td>&lt;selenium.webdriver.remote.webelement.WebEleme...</td>\n",
       "    </tr>\n",
       "    <tr>\n",
       "      <th>...</th>\n",
       "      <td>...</td>\n",
       "      <td>...</td>\n",
       "    </tr>\n",
       "    <tr>\n",
       "      <th>63</th>\n",
       "      <td>&lt;selenium.webdriver.remote.webelement.WebEleme...</td>\n",
       "      <td>&lt;selenium.webdriver.remote.webelement.WebEleme...</td>\n",
       "    </tr>\n",
       "    <tr>\n",
       "      <th>64</th>\n",
       "      <td>&lt;selenium.webdriver.remote.webelement.WebEleme...</td>\n",
       "      <td>&lt;selenium.webdriver.remote.webelement.WebEleme...</td>\n",
       "    </tr>\n",
       "    <tr>\n",
       "      <th>65</th>\n",
       "      <td>&lt;selenium.webdriver.remote.webelement.WebEleme...</td>\n",
       "      <td>&lt;selenium.webdriver.remote.webelement.WebEleme...</td>\n",
       "    </tr>\n",
       "    <tr>\n",
       "      <th>66</th>\n",
       "      <td>&lt;selenium.webdriver.remote.webelement.WebEleme...</td>\n",
       "      <td>&lt;selenium.webdriver.remote.webelement.WebEleme...</td>\n",
       "    </tr>\n",
       "    <tr>\n",
       "      <th>67</th>\n",
       "      <td>&lt;selenium.webdriver.remote.webelement.WebEleme...</td>\n",
       "      <td>&lt;selenium.webdriver.remote.webelement.WebEleme...</td>\n",
       "    </tr>\n",
       "  </tbody>\n",
       "</table>\n",
       "<p>68 rows × 2 columns</p>\n",
       "</div>"
      ],
      "text/plain": [
       "                                                 Name  \\\n",
       "0   <selenium.webdriver.remote.webelement.WebEleme...   \n",
       "1   <selenium.webdriver.remote.webelement.WebEleme...   \n",
       "2   <selenium.webdriver.remote.webelement.WebEleme...   \n",
       "3   <selenium.webdriver.remote.webelement.WebEleme...   \n",
       "4   <selenium.webdriver.remote.webelement.WebEleme...   \n",
       "..                                                ...   \n",
       "63  <selenium.webdriver.remote.webelement.WebEleme...   \n",
       "64  <selenium.webdriver.remote.webelement.WebEleme...   \n",
       "65  <selenium.webdriver.remote.webelement.WebEleme...   \n",
       "66  <selenium.webdriver.remote.webelement.WebEleme...   \n",
       "67  <selenium.webdriver.remote.webelement.WebEleme...   \n",
       "\n",
       "                                                Price  \n",
       "0   <selenium.webdriver.remote.webelement.WebEleme...  \n",
       "1   <selenium.webdriver.remote.webelement.WebEleme...  \n",
       "2   <selenium.webdriver.remote.webelement.WebEleme...  \n",
       "3   <selenium.webdriver.remote.webelement.WebEleme...  \n",
       "4   <selenium.webdriver.remote.webelement.WebEleme...  \n",
       "..                                                ...  \n",
       "63  <selenium.webdriver.remote.webelement.WebEleme...  \n",
       "64  <selenium.webdriver.remote.webelement.WebEleme...  \n",
       "65  <selenium.webdriver.remote.webelement.WebEleme...  \n",
       "66  <selenium.webdriver.remote.webelement.WebEleme...  \n",
       "67  <selenium.webdriver.remote.webelement.WebEleme...  \n",
       "\n",
       "[68 rows x 2 columns]"
      ]
     },
     "execution_count": 23,
     "metadata": {},
     "output_type": "execute_result"
    }
   ],
   "source": [
    "import pandas as pd\n",
    "\n",
    "dataframe = pd.DataFrame({'Name': woodland_shoes , 'Price': price})\n",
    "dataframe"
   ]
  },
  {
   "cell_type": "code",
   "execution_count": 24,
   "id": "d890897d",
   "metadata": {},
   "outputs": [
    {
     "name": "stdout",
     "output_type": "stream",
     "text": [
      "                                  Name       Price\n",
      "0                Grey Sneakers for Men  ₹2995₹2021\n",
      "1       Black high-top boots for women  ₹6995₹3147\n",
      "2         Olive/black sneakers for men  ₹3795₹2049\n",
      "3             Sand Sports Shoe for men  ₹7995₹4317\n",
      "4                Blue sneakers for men  ₹6995₹2250\n",
      "..                                 ...         ...\n",
      "63                Black casual sneaker  ₹6995₹2700\n",
      "64              Black sneakers for men  ₹2795₹2236\n",
      "65  Grey/orange casual sneaker for men  ₹7995₹3597\n",
      "66            Sand Sports Shoe for men  ₹7995₹4317\n",
      "67          Black Slip-on Shoe for Men  ₹2095₹1571\n",
      "\n",
      "[68 rows x 2 columns]\n"
     ]
    }
   ],
   "source": [
    "import pandas as pd\n",
    "\n",
    "# Assuming you have obtained 'woodland_shoes' and 'price' lists\n",
    "# Extracting text from WebElement objects\n",
    "shoe_texts = [shoe_element.text for shoe_element in woodland_shoes]\n",
    "price_texts = [price_element.text for price_element in price]\n",
    "\n",
    "# Create DataFrame\n",
    "df = pd.DataFrame({'Name': shoe_texts, 'Price': price_texts})\n",
    "\n",
    "# Print or return the DataFrame as needed\n",
    "print(df)\n"
   ]
  },
  {
   "cell_type": "code",
   "execution_count": 26,
   "id": "2cd1f173",
   "metadata": {},
   "outputs": [],
   "source": [
    "to_csv = df.to_csv('C:\\\\Users\\\\hp\\\\Desktop\\\\shoe_woodland_1.csv')"
   ]
  },
  {
   "cell_type": "code",
   "execution_count": null,
   "id": "1bb27158",
   "metadata": {},
   "outputs": [],
   "source": []
  }
 ],
 "metadata": {
  "kernelspec": {
   "display_name": "Python 3 (ipykernel)",
   "language": "python",
   "name": "python3"
  },
  "language_info": {
   "codemirror_mode": {
    "name": "ipython",
    "version": 3
   },
   "file_extension": ".py",
   "mimetype": "text/x-python",
   "name": "python",
   "nbconvert_exporter": "python",
   "pygments_lexer": "ipython3",
   "version": "3.11.4"
  }
 },
 "nbformat": 4,
 "nbformat_minor": 5
}
