{
 "cells": [
  {
   "cell_type": "code",
   "execution_count": 1,
   "id": "e55a394b",
   "metadata": {},
   "outputs": [],
   "source": [
    "from selenium import webdriver"
   ]
  },
  {
   "cell_type": "code",
   "execution_count": 2,
   "id": "92885053",
   "metadata": {},
   "outputs": [],
   "source": [
    "from selenium import webdriver\n",
    "from selenium.webdriver.chrome.service import Service as ChromeService\n",
    "from webdriver_manager.chrome import ChromeDriverManager"
   ]
  },
  {
   "cell_type": "code",
   "execution_count": 3,
   "id": "fc0fb52f",
   "metadata": {},
   "outputs": [],
   "source": [
    "driver = webdriver.Chrome(service=ChromeService(ChromeDriverManager().install()))"
   ]
  },
  {
   "cell_type": "code",
   "execution_count": 4,
   "id": "0a3111ba",
   "metadata": {},
   "outputs": [],
   "source": [
    "driver.get('https://www.adidas.co.in/')\n",
    "driver.implicitly_wait(10)"
   ]
  },
  {
   "cell_type": "code",
   "execution_count": 5,
   "id": "5d33c294",
   "metadata": {},
   "outputs": [],
   "source": [
    "import selenium\n",
    "import pandas as pd\n",
    "import warnings\n",
    "warnings.filterwarnings('ignore')\n",
    "from selenium.webdriver.common.by import By\n",
    "import time"
   ]
  },
  {
   "cell_type": "code",
   "execution_count": 20,
   "id": "68924e1d",
   "metadata": {},
   "outputs": [
    {
     "name": "stdout",
     "output_type": "stream",
     "text": [
      "['Superstar Shoes', 'Superstar Shoes', 'Samba OG Shoes', 'Samba OG Shoes', 'Superstar Shoes', 'Galaxy 6 Shoes', 'Ultraboost Light', 'Ultimashow Shoes', 'WIND RAISER SHOES', 'FLUIDFLOW 2.0 RUNNING SHOE', 'STUNICON SHOES', 'Ultraboost 1.0 Shoes', 'ADI ZOOM SHOES', 'RAYRUN SHOES', 'HYPERON 1.0 SHOES', 'Grand Court Cloudfoam Comfort Shoes', 'Pureboost 22 Shoes', 'Daily 3.0 Shoes', 'Ultraboost 1.0 Shoes', 'Lite Racer Adapt 4.0 Cloudfoam Slip-On Shoes', 'FLODEAN SHOES', 'Adilette Comfort Slides', 'Adilette Comfort Slides', 'RAYRUN SHOES', 'SHEENWALK SHOES', 'SOLARGLIDE 6 Shoes', 'Predator Accuracy.3 Low Firm Ground Boots', 'NMD_R1 Shoes', 'AMPLIGY SHOES', 'Ultimashow Shoes', 'SHEENWALK SHOES', 'Ultimashow Shoes', 'Duramo 10 Shoes', 'FAZTCORTSHOES', 'Asweetrain Shoes', 'VS Pace 2.0 Shoes', 'Advantage Base Court Lifestyle Shoes']\n"
     ]
    }
   ],
   "source": [
    "addidas_shoe_texts.append(shoe_text)\n",
    "        \n",
    "from selenium.common.exceptions\n",
    "import StaleElementReferenceException\n",
    "from selenium.webdriver.common.by import By\n",
    "\n",
    "addidas_shoes = driver.find_elements(By.XPATH, '//p[@class=\"glass-product-card__title\"]')\n",
    "shoe_texts = []\n",
    "\n",
    "for index, shoe_element in enumerate(addidas_shoes):\n",
    "    try:\n",
    "        shoe_text = shoe_element.text\n",
    "        shoeeck if we have collected 37 elements\n",
    "        if len(shoe_texts) == 37:\n",
    "            break\n",
    "    except StaleElementReferenceException:\n",
    "        # Handle StaleElementReferenceException by re-fetching the elements\n",
    "        addidas_shoes = driver.find_elements(By.XPATH, '//p[@class=\"glass-product-card__title\"]')\n",
    "        shoe_texts.append(addidas_shoes.text)\n",
    "\n",
    "print(shoe_texts)\n"
   ]
  },
  {
   "cell_type": "code",
   "execution_count": 21,
   "id": "68f9f45f",
   "metadata": {},
   "outputs": [
    {
     "name": "stdout",
     "output_type": "stream",
     "text": [
      "['2 colours', '3 colours', '3 colours', '2 colours', '11 colours', '3 colours', '3 colours', '5 colours', '2 colours', '2 colours', '4 colours', '2 colours', '8 colours', '4 colours', '5 colours', '3 colours', '4 colours', '4 colours', '2 colours', '2 colours', '5 colours', '2 colours', '3 colours', '4 colours', '2 colours', '3 colours', '3 colours', '7 colours', '2 colours', '3 colours', '2 colours', '2 colours', '3 colours', '7 colours', '3 colours', '4 colours', '2 colours']\n"
     ]
    }
   ],
   "source": [
    "from selenium.common.exceptions import StaleElementReferenceException\n",
    "from selenium.webdriver.common.by import By\n",
    "\n",
    "addidas_shoes = driver.find_elements(By.XPATH, '//span[@class=\"dark-grey___6ysQv\"]')\n",
    "colors_texts = []\n",
    "\n",
    "for index, colors_element in enumerate(addidas_shoes):\n",
    "    try:\n",
    "        colors_text = colors_element.text\n",
    "        colors_texts.append(colors_text)\n",
    "        \n",
    "        # Check if we have collected 37 elements\n",
    "        if len(colors_texts) == 37:\n",
    "            break\n",
    "    except StaleElementReferenceException:\n",
    "        # Handle StaleElementReferenceException by re-fetching the elements\n",
    "        addidas_shoes = driver.find_elements(By.XPATH, '//span[@class=\"dark-grey___6ysQv\"]')\n",
    "        colors_texts.append(addidas_shoes.text)\n",
    "\n",
    "print(colors_texts)\n"
   ]
  },
  {
   "cell_type": "code",
   "execution_count": 22,
   "id": "d42d7da5",
   "metadata": {},
   "outputs": [
    {
     "name": "stdout",
     "output_type": "stream",
     "text": [
      "['₹8 999.00', '₹8 999.00\\n₹4 499.50', '₹10 999.00', '₹11 999.00', '₹8 999.00', '₹19 999.00\\n₹11 999.50', '₹5 599.00\\n₹4 199.50', '₹3 599.00\\n₹1 979.50', '₹4 299.00\\n₹2 364.50', '₹4 299.00\\n₹2 149.50', '₹17 999.00', '₹3 299.00\\n₹1 979.50', '₹3 999.00\\n₹2 399.50', '₹2 999.00\\n₹1 799.50', '₹7 999.00\\n₹5 999.50', '₹11 999.00\\n₹7 199.50', '₹6 599.00\\n₹3 299.50', '₹17 999.00', '₹6 999.00\\n₹4 899.50', '₹3 299.00', '₹3 999.00', '₹3 999.00\\n₹2 399.50', '₹3 599.00', '₹7 999.00\\n₹4 399.50', '₹12 999.00\\n₹9 099.50', '₹4 799.00\\n₹2 399.50', '₹5 599.00\\n₹4 199.50', '₹3 599.00', '₹5 599.00\\n₹3 919.50', '₹6 599.00\\n₹2 970.00', '₹3 999.00\\n₹2 399.50', '₹7 999.00\\n₹4 799.50', '₹4 999.00\\n₹3 499.50', '₹6 599.00\\n₹4 619.50', '₹10 999.00', '₹5 599.00\\n₹4 199.50', '₹14 999.00\\n₹9 749.50']\n"
     ]
    }
   ],
   "source": [
    "from selenium.common.exceptions import StaleElementReferenceException\n",
    "from selenium.webdriver.common.by import By\n",
    "\n",
    "addidas_shoes = driver.find_elements(By.XPATH, '//div[@class=\"gl-price gl-price--horizontal notranslate gl-price--inline___3nMlh\"]')\n",
    "price_texts = []\n",
    "\n",
    "for index, price_element in enumerate(addidas_shoes):\n",
    "    try:\n",
    "        price_text = price_element.text\n",
    "        price_texts.append(price_text)\n",
    "        \n",
    "        # Check if we have collected 37 elements\n",
    "        if len(price_texts) == 37:\n",
    "            break\n",
    "    except StaleElementReferenceException:\n",
    "        # Handle StaleElementReferenceException by re-fetching the elements\n",
    "        addidas_shoes = driver.find_elements(By.XPATH, '//div[@class=\"gl-price gl-price--horizontal notranslate gl-price--inline___3nMlh\"]')\n",
    "        price_texts.append(addidas_shoes.text)\n",
    "\n",
    "print(price_texts)\n"
   ]
  },
  {
   "cell_type": "code",
   "execution_count": 23,
   "id": "4dfe17fe",
   "metadata": {},
   "outputs": [
    {
     "name": "stdout",
     "output_type": "stream",
     "text": [
      "['originals', 'Women Lifestyle', 'originals', 'originals', 'Men originals', 'Men Running', 'Men Running', 'Men sportswear', 'Men Running', 'Men Running', 'Men Running', 'Men sportswear', 'Men Running', 'Women Running', 'Men Running', 'Men sportswear', 'Running', 'Men Skateboarding', 'Men sportswear', 'Men Running', 'Men Walking', 'sportswear', 'sportswear', 'Women Running', 'Women Walking', 'Men Running', 'Football', 'Men originals', 'Men Running', 'Women Running', 'Women Running', 'Men sportswear', 'Men Running', 'Men Tennis', 'Men Training', 'Men Skateboarding', 'Men sportswear']\n"
     ]
    }
   ],
   "source": [
    "from selenium.common.exceptions import StaleElementReferenceException\n",
    "from selenium.webdriver.common.by import By\n",
    "\n",
    "category = driver.find_elements(By.XPATH, '//p[@class=\"glass-product-card__category\"]')\n",
    "category_texts = []\n",
    "\n",
    "for index, category_element in enumerate(category):\n",
    "    try:\n",
    "        category_text = category_element.text\n",
    "        category_texts.append(category_text)\n",
    "        \n",
    "        # Check if we have collected 37 elements\n",
    "        if len(category_texts) == 37:\n",
    "            break\n",
    "    except StaleElementReferenceException:\n",
    "        # Handle StaleElementReferenceException by re-fetching the elements\n",
    "        category = driver.find_elements(By.XPATH, '//p[@class=\"glass-product-card__category\"]')\n",
    "        category_texts.append(category_element.text)\n",
    "\n",
    "print(category_texts)\n"
   ]
  },
  {
   "cell_type": "code",
   "execution_count": 24,
   "id": "163eb751",
   "metadata": {},
   "outputs": [
    {
     "name": "stdout",
     "output_type": "stream",
     "text": [
      "45 37 37 37\n"
     ]
    }
   ],
   "source": [
    "print(len(addidas_shoes),len(colors_texts),len(price_texts),len(category_texts))"
   ]
  },
  {
   "cell_type": "code",
   "execution_count": 26,
   "id": "94ba0ef5",
   "metadata": {},
   "outputs": [
    {
     "name": "stdout",
     "output_type": "stream",
     "text": [
      "                                                 Name      colors  \\\n",
      "0   <selenium.webdriver.remote.webelement.WebEleme...   2 colours   \n",
      "1   <selenium.webdriver.remote.webelement.WebEleme...   3 colours   \n",
      "2   <selenium.webdriver.remote.webelement.WebEleme...   3 colours   \n",
      "3   <selenium.webdriver.remote.webelement.WebEleme...   2 colours   \n",
      "4   <selenium.webdriver.remote.webelement.WebEleme...  11 colours   \n",
      "5   <selenium.webdriver.remote.webelement.WebEleme...   3 colours   \n",
      "6   <selenium.webdriver.remote.webelement.WebEleme...   3 colours   \n",
      "7   <selenium.webdriver.remote.webelement.WebEleme...   5 colours   \n",
      "8   <selenium.webdriver.remote.webelement.WebEleme...   2 colours   \n",
      "9   <selenium.webdriver.remote.webelement.WebEleme...   2 colours   \n",
      "10  <selenium.webdriver.remote.webelement.WebEleme...   4 colours   \n",
      "11  <selenium.webdriver.remote.webelement.WebEleme...   2 colours   \n",
      "12  <selenium.webdriver.remote.webelement.WebEleme...   8 colours   \n",
      "13  <selenium.webdriver.remote.webelement.WebEleme...   4 colours   \n",
      "14  <selenium.webdriver.remote.webelement.WebEleme...   5 colours   \n",
      "15  <selenium.webdriver.remote.webelement.WebEleme...   3 colours   \n",
      "16  <selenium.webdriver.remote.webelement.WebEleme...   4 colours   \n",
      "17  <selenium.webdriver.remote.webelement.WebEleme...   4 colours   \n",
      "18  <selenium.webdriver.remote.webelement.WebEleme...   2 colours   \n",
      "19  <selenium.webdriver.remote.webelement.WebEleme...   2 colours   \n",
      "20  <selenium.webdriver.remote.webelement.WebEleme...   5 colours   \n",
      "21  <selenium.webdriver.remote.webelement.WebEleme...   2 colours   \n",
      "22  <selenium.webdriver.remote.webelement.WebEleme...   3 colours   \n",
      "23  <selenium.webdriver.remote.webelement.WebEleme...   4 colours   \n",
      "24  <selenium.webdriver.remote.webelement.WebEleme...   2 colours   \n",
      "25  <selenium.webdriver.remote.webelement.WebEleme...   3 colours   \n",
      "26  <selenium.webdriver.remote.webelement.WebEleme...   3 colours   \n",
      "27  <selenium.webdriver.remote.webelement.WebEleme...   7 colours   \n",
      "28  <selenium.webdriver.remote.webelement.WebEleme...   2 colours   \n",
      "29  <selenium.webdriver.remote.webelement.WebEleme...   3 colours   \n",
      "30  <selenium.webdriver.remote.webelement.WebEleme...   2 colours   \n",
      "31  <selenium.webdriver.remote.webelement.WebEleme...   2 colours   \n",
      "32  <selenium.webdriver.remote.webelement.WebEleme...   3 colours   \n",
      "33  <selenium.webdriver.remote.webelement.WebEleme...   7 colours   \n",
      "34  <selenium.webdriver.remote.webelement.WebEleme...   3 colours   \n",
      "35  <selenium.webdriver.remote.webelement.WebEleme...   4 colours   \n",
      "36  <selenium.webdriver.remote.webelement.WebEleme...   2 colours   \n",
      "\n",
      "                     Price                                           category  \n",
      "0                ₹8 999.00  <selenium.webdriver.remote.webelement.WebEleme...  \n",
      "1     ₹8 999.00\\n₹4 499.50  <selenium.webdriver.remote.webelement.WebEleme...  \n",
      "2               ₹10 999.00  <selenium.webdriver.remote.webelement.WebEleme...  \n",
      "3               ₹11 999.00  <selenium.webdriver.remote.webelement.WebEleme...  \n",
      "4                ₹8 999.00  <selenium.webdriver.remote.webelement.WebEleme...  \n",
      "5   ₹19 999.00\\n₹11 999.50  <selenium.webdriver.remote.webelement.WebEleme...  \n",
      "6     ₹5 599.00\\n₹4 199.50  <selenium.webdriver.remote.webelement.WebEleme...  \n",
      "7     ₹3 599.00\\n₹1 979.50  <selenium.webdriver.remote.webelement.WebEleme...  \n",
      "8     ₹4 299.00\\n₹2 364.50  <selenium.webdriver.remote.webelement.WebEleme...  \n",
      "9     ₹4 299.00\\n₹2 149.50  <selenium.webdriver.remote.webelement.WebEleme...  \n",
      "10              ₹17 999.00  <selenium.webdriver.remote.webelement.WebEleme...  \n",
      "11    ₹3 299.00\\n₹1 979.50  <selenium.webdriver.remote.webelement.WebEleme...  \n",
      "12    ₹3 999.00\\n₹2 399.50  <selenium.webdriver.remote.webelement.WebEleme...  \n",
      "13    ₹2 999.00\\n₹1 799.50  <selenium.webdriver.remote.webelement.WebEleme...  \n",
      "14    ₹7 999.00\\n₹5 999.50  <selenium.webdriver.remote.webelement.WebEleme...  \n",
      "15   ₹11 999.00\\n₹7 199.50  <selenium.webdriver.remote.webelement.WebEleme...  \n",
      "16    ₹6 599.00\\n₹3 299.50  <selenium.webdriver.remote.webelement.WebEleme...  \n",
      "17              ₹17 999.00  <selenium.webdriver.remote.webelement.WebEleme...  \n",
      "18    ₹6 999.00\\n₹4 899.50  <selenium.webdriver.remote.webelement.WebEleme...  \n",
      "19               ₹3 299.00  <selenium.webdriver.remote.webelement.WebEleme...  \n",
      "20               ₹3 999.00  <selenium.webdriver.remote.webelement.WebEleme...  \n",
      "21    ₹3 999.00\\n₹2 399.50  <selenium.webdriver.remote.webelement.WebEleme...  \n",
      "22               ₹3 599.00  <selenium.webdriver.remote.webelement.WebEleme...  \n",
      "23    ₹7 999.00\\n₹4 399.50  <selenium.webdriver.remote.webelement.WebEleme...  \n",
      "24   ₹12 999.00\\n₹9 099.50  <selenium.webdriver.remote.webelement.WebEleme...  \n",
      "25    ₹4 799.00\\n₹2 399.50  <selenium.webdriver.remote.webelement.WebEleme...  \n",
      "26    ₹5 599.00\\n₹4 199.50  <selenium.webdriver.remote.webelement.WebEleme...  \n",
      "27               ₹3 599.00  <selenium.webdriver.remote.webelement.WebEleme...  \n",
      "28    ₹5 599.00\\n₹3 919.50  <selenium.webdriver.remote.webelement.WebEleme...  \n",
      "29    ₹6 599.00\\n₹2 970.00  <selenium.webdriver.remote.webelement.WebEleme...  \n",
      "30    ₹3 999.00\\n₹2 399.50  <selenium.webdriver.remote.webelement.WebEleme...  \n",
      "31    ₹7 999.00\\n₹4 799.50  <selenium.webdriver.remote.webelement.WebEleme...  \n",
      "32    ₹4 999.00\\n₹3 499.50  <selenium.webdriver.remote.webelement.WebEleme...  \n",
      "33    ₹6 599.00\\n₹4 619.50  <selenium.webdriver.remote.webelement.WebEleme...  \n",
      "34              ₹10 999.00  <selenium.webdriver.remote.webelement.WebEleme...  \n",
      "35    ₹5 599.00\\n₹4 199.50  <selenium.webdriver.remote.webelement.WebEleme...  \n",
      "36   ₹14 999.00\\n₹9 749.50  <selenium.webdriver.remote.webelement.WebEleme...  \n"
     ]
    }
   ],
   "source": [
    "import pandas as pd\n",
    "\n",
    "# Assuming you have your data retrieval code here for addidas_shoes, colors_texts, price_texts, and category\n",
    "\n",
    "# Ensure all lists have the same length (e.g., 37)\n",
    "addidas_shoes = addidas_shoes[:37]\n",
    "colors_texts = colors_texts[:37]\n",
    "price_texts = price_texts[:37]\n",
    "category = category[:37]\n",
    "\n",
    "# Create the DataFrame\n",
    "df = pd.DataFrame({'Name': addidas_shoes, 'colors': colors_texts, 'Price': price_texts, 'category': category})\n",
    "\n",
    "# Display the DataFrame\n",
    "print(df)\n"
   ]
  },
  {
   "cell_type": "code",
   "execution_count": 27,
   "id": "dc110a68",
   "metadata": {},
   "outputs": [
    {
     "name": "stdout",
     "output_type": "stream",
     "text": [
      "                      Name      colors                   Price  \\\n",
      "0                ₹8 999.00   2 colours               ₹8 999.00   \n",
      "1     ₹8 999.00\\n₹4 499.50   3 colours    ₹8 999.00\\n₹4 499.50   \n",
      "2               ₹10 999.00   3 colours              ₹10 999.00   \n",
      "3               ₹11 999.00   2 colours              ₹11 999.00   \n",
      "4                ₹8 999.00  11 colours               ₹8 999.00   \n",
      "5   ₹19 999.00\\n₹11 999.50   3 colours  ₹19 999.00\\n₹11 999.50   \n",
      "6     ₹5 599.00\\n₹4 199.50   3 colours    ₹5 599.00\\n₹4 199.50   \n",
      "7     ₹3 599.00\\n₹1 979.50   5 colours    ₹3 599.00\\n₹1 979.50   \n",
      "8     ₹4 299.00\\n₹2 364.50   2 colours    ₹4 299.00\\n₹2 364.50   \n",
      "9     ₹4 299.00\\n₹2 149.50   2 colours    ₹4 299.00\\n₹2 149.50   \n",
      "10              ₹17 999.00   4 colours              ₹17 999.00   \n",
      "11    ₹3 299.00\\n₹1 979.50   2 colours    ₹3 299.00\\n₹1 979.50   \n",
      "12    ₹3 999.00\\n₹2 399.50   8 colours    ₹3 999.00\\n₹2 399.50   \n",
      "13    ₹2 999.00\\n₹1 799.50   4 colours    ₹2 999.00\\n₹1 799.50   \n",
      "14    ₹7 999.00\\n₹5 999.50   5 colours    ₹7 999.00\\n₹5 999.50   \n",
      "15   ₹11 999.00\\n₹7 199.50   3 colours   ₹11 999.00\\n₹7 199.50   \n",
      "16    ₹6 599.00\\n₹3 299.50   4 colours    ₹6 599.00\\n₹3 299.50   \n",
      "17              ₹17 999.00   4 colours              ₹17 999.00   \n",
      "18    ₹6 999.00\\n₹4 899.50   2 colours    ₹6 999.00\\n₹4 899.50   \n",
      "19               ₹3 299.00   2 colours               ₹3 299.00   \n",
      "20               ₹3 999.00   5 colours               ₹3 999.00   \n",
      "21    ₹3 999.00\\n₹2 399.50   2 colours    ₹3 999.00\\n₹2 399.50   \n",
      "22               ₹3 599.00   3 colours               ₹3 599.00   \n",
      "23    ₹7 999.00\\n₹4 399.50   4 colours    ₹7 999.00\\n₹4 399.50   \n",
      "24   ₹12 999.00\\n₹9 099.50   2 colours   ₹12 999.00\\n₹9 099.50   \n",
      "25    ₹4 799.00\\n₹2 399.50   3 colours    ₹4 799.00\\n₹2 399.50   \n",
      "26    ₹5 599.00\\n₹4 199.50   3 colours    ₹5 599.00\\n₹4 199.50   \n",
      "27               ₹3 599.00   7 colours               ₹3 599.00   \n",
      "28    ₹5 599.00\\n₹3 919.50   2 colours    ₹5 599.00\\n₹3 919.50   \n",
      "29    ₹6 599.00\\n₹2 970.00   3 colours    ₹6 599.00\\n₹2 970.00   \n",
      "30    ₹3 999.00\\n₹2 399.50   2 colours    ₹3 999.00\\n₹2 399.50   \n",
      "31    ₹7 999.00\\n₹4 799.50   2 colours    ₹7 999.00\\n₹4 799.50   \n",
      "32    ₹4 999.00\\n₹3 499.50   3 colours    ₹4 999.00\\n₹3 499.50   \n",
      "33    ₹6 599.00\\n₹4 619.50   7 colours    ₹6 599.00\\n₹4 619.50   \n",
      "34              ₹10 999.00   3 colours              ₹10 999.00   \n",
      "35    ₹5 599.00\\n₹4 199.50   4 colours    ₹5 599.00\\n₹4 199.50   \n",
      "36   ₹14 999.00\\n₹9 749.50   2 colours   ₹14 999.00\\n₹9 749.50   \n",
      "\n",
      "                                             category  \n",
      "0   <selenium.webdriver.remote.webelement.WebEleme...  \n",
      "1   <selenium.webdriver.remote.webelement.WebEleme...  \n",
      "2   <selenium.webdriver.remote.webelement.WebEleme...  \n",
      "3   <selenium.webdriver.remote.webelement.WebEleme...  \n",
      "4   <selenium.webdriver.remote.webelement.WebEleme...  \n",
      "5   <selenium.webdriver.remote.webelement.WebEleme...  \n",
      "6   <selenium.webdriver.remote.webelement.WebEleme...  \n",
      "7   <selenium.webdriver.remote.webelement.WebEleme...  \n",
      "8   <selenium.webdriver.remote.webelement.WebEleme...  \n",
      "9   <selenium.webdriver.remote.webelement.WebEleme...  \n",
      "10  <selenium.webdriver.remote.webelement.WebEleme...  \n",
      "11  <selenium.webdriver.remote.webelement.WebEleme...  \n",
      "12  <selenium.webdriver.remote.webelement.WebEleme...  \n",
      "13  <selenium.webdriver.remote.webelement.WebEleme...  \n",
      "14  <selenium.webdriver.remote.webelement.WebEleme...  \n",
      "15  <selenium.webdriver.remote.webelement.WebEleme...  \n",
      "16  <selenium.webdriver.remote.webelement.WebEleme...  \n",
      "17  <selenium.webdriver.remote.webelement.WebEleme...  \n",
      "18  <selenium.webdriver.remote.webelement.WebEleme...  \n",
      "19  <selenium.webdriver.remote.webelement.WebEleme...  \n",
      "20  <selenium.webdriver.remote.webelement.WebEleme...  \n",
      "21  <selenium.webdriver.remote.webelement.WebEleme...  \n",
      "22  <selenium.webdriver.remote.webelement.WebEleme...  \n",
      "23  <selenium.webdriver.remote.webelement.WebEleme...  \n",
      "24  <selenium.webdriver.remote.webelement.WebEleme...  \n",
      "25  <selenium.webdriver.remote.webelement.WebEleme...  \n",
      "26  <selenium.webdriver.remote.webelement.WebEleme...  \n",
      "27  <selenium.webdriver.remote.webelement.WebEleme...  \n",
      "28  <selenium.webdriver.remote.webelement.WebEleme...  \n",
      "29  <selenium.webdriver.remote.webelement.WebEleme...  \n",
      "30  <selenium.webdriver.remote.webelement.WebEleme...  \n",
      "31  <selenium.webdriver.remote.webelement.WebEleme...  \n",
      "32  <selenium.webdriver.remote.webelement.WebEleme...  \n",
      "33  <selenium.webdriver.remote.webelement.WebEleme...  \n",
      "34  <selenium.webdriver.remote.webelement.WebEleme...  \n",
      "35  <selenium.webdriver.remote.webelement.WebEleme...  \n",
      "36  <selenium.webdriver.remote.webelement.WebEleme...  \n"
     ]
    }
   ],
   "source": [
    "import pandas as pd\n",
    "\n",
    "# Assuming you have your data retrieval code here for addidas_shoes, colors_texts, price_texts, and category\n",
    "\n",
    "# Extract text content from WebElement objects\n",
    "addidas_shoe_texts = [shoe.text for shoe in addidas_shoes]\n",
    "\n",
    "# Ensure all lists have the same length (e.g., 37)\n",
    "addidas_shoe_texts = addidas_shoe_texts[:37]\n",
    "colors_texts = colors_texts[:37]\n",
    "price_texts = price_texts[:37]\n",
    "category = category[:37]\n",
    "\n",
    "# Create the DataFrame\n",
    "df = pd.DataFrame({'Name': addidas_shoe_texts, 'colors': colors_texts, 'Price': price_texts, 'category': category})\n",
    "\n",
    "# Display the DataFrame\n",
    "print(df)\n"
   ]
  },
  {
   "cell_type": "code",
   "execution_count": 28,
   "id": "4189bbbe",
   "metadata": {},
   "outputs": [],
   "source": [
    "to_csv = df.to_csv('C:\\\\Users\\\\hp\\\\Desktop\\\\shoes_addidas.csv')"
   ]
  },
  {
   "cell_type": "code",
   "execution_count": null,
   "id": "cb74fdd8",
   "metadata": {},
   "outputs": [],
   "source": []
  }
 ],
 "metadata": {
  "kernelspec": {
   "display_name": "Python 3 (ipykernel)",
   "language": "python",
   "name": "python3"
  },
  "language_info": {
   "codemirror_mode": {
    "name": "ipython",
    "version": 3
   },
   "file_extension": ".py",
   "mimetype": "text/x-python",
   "name": "python",
   "nbconvert_exporter": "python",
   "pygments_lexer": "ipython3",
   "version": "3.11.4"
  }
 },
 "nbformat": 4,
 "nbformat_minor": 5
}
