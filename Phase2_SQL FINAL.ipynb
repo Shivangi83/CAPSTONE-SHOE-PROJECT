{
 "cells": [
  {
   "cell_type": "markdown",
   "metadata": {},
   "source": [
    "SQL Query for the first csv file - Table1.csv"
   ]
  },
  {
   "cell_type": "code",
   "execution_count": 45,
   "metadata": {},
   "outputs": [
    {
     "data": {
      "text/plain": [
       "94"
      ]
     },
     "execution_count": 45,
     "metadata": {},
     "output_type": "execute_result"
    }
   ],
   "source": [
    "import pandas as pd\n",
    "import sqlite3\n",
    "\n",
    "# Read the CSV file  \n",
    "csv_file_path = r\"C:\\Users\\amanp\\OneDrive\\Desktop\\sister\\csv files\\Table1.csv\"  # File path\n",
    "df = pd.read_csv(csv_file_path, encoding='latin-1')\n",
    "\n",
    "# Create an in-memory SQLite database and write the DataFrame to it\n",
    "conn = sqlite3.connect(':memory:')  \n",
    "df.to_sql('my_table', conn, index=False, if_exists='replace')"
   ]
  },
  {
   "cell_type": "markdown",
   "metadata": {},
   "source": [
    "Query 1"
   ]
  },
  {
   "cell_type": "code",
   "execution_count": 46,
   "metadata": {},
   "outputs": [
    {
     "name": "stdout",
     "output_type": "stream",
     "text": [
      "                                              Name   Price\n",
      "0                            Grey Sneakers for Men  2995.0\n",
      "1                   Black high-top boots for women  6995.0\n",
      "2                     Olive/black sneakers for men  3795.0\n",
      "3                         Sand Sports Shoe for men  7995.0\n",
      "4                            Blue sneakers for men  6995.0\n",
      "..                                             ...     ...\n",
      "89                    ULTRA FLEX 3.0 - SMOOTH STEP  7999.0\n",
      "90  Skechers Slip-ins: Ultra Flex 3.0 - Glitter Me  6999.0\n",
      "91                                  AIR CUSHIONING  7999.0\n",
      "92                                 UNO - EVERYWEAR  6999.0\n",
      "93                   MAX CUSHIONING ARCH FIT -ENIG  9499.0\n",
      "\n",
      "[94 rows x 2 columns]\n"
     ]
    }
   ],
   "source": [
    "query = \"SELECT Name, Price FROM my_table\"\n",
    "result_df = pd.read_sql_query(query, conn)\n",
    "\n",
    "# Display the result\n",
    "print(result_df)"
   ]
  },
  {
   "cell_type": "markdown",
   "metadata": {},
   "source": [
    "Query 2"
   ]
  },
  {
   "cell_type": "code",
   "execution_count": 30,
   "metadata": {},
   "outputs": [
    {
     "name": "stdout",
     "output_type": "stream",
     "text": [
      "     Colours Category\n",
      "0          2      Men\n",
      "1          2    women\n",
      "2          1    women\n",
      "3          1      Men\n",
      "4          1    women\n",
      "..       ...      ...\n",
      "130        2      Men\n",
      "131        3      Men\n",
      "132        2      Men\n",
      "133        2    women\n",
      "134        2      Men\n",
      "\n",
      "[135 rows x 2 columns]\n"
     ]
    }
   ],
   "source": [
    "query = \"SELECT Colours, Category FROM my_table\"\n",
    "result_df = pd.read_sql_query(query, conn)\n",
    "\n",
    "# Display the result\n",
    "print(result_df)"
   ]
  },
  {
   "cell_type": "markdown",
   "metadata": {},
   "source": [
    "Query 3"
   ]
  },
  {
   "cell_type": "code",
   "execution_count": 11,
   "metadata": {},
   "outputs": [
    {
     "name": "stdout",
     "output_type": "stream",
     "text": [
      "     Price\n",
      "0  19999.0\n"
     ]
    }
   ],
   "source": [
    "query = \"SELECT Price FROM my_table order by Price desc limit 1\"\n",
    "result_df = pd.read_sql_query(query, conn)\n",
    "\n",
    "# Display the result\n",
    "print(result_df)"
   ]
  },
  {
   "cell_type": "markdown",
   "metadata": {},
   "source": [
    "Query 4"
   ]
  },
  {
   "cell_type": "code",
   "execution_count": 42,
   "metadata": {},
   "outputs": [
    {
     "name": "stdout",
     "output_type": "stream",
     "text": [
      "                                                Name   Price\n",
      "0  Softride Enzo Evo Running ShoesPuma Black-CAST...  2496.6\n"
     ]
    }
   ],
   "source": [
    "query = \"SELECT Name, Price FROM my_table where Category = 'women' and Price != 'None' order by Price limit 1\"\n",
    "result_df = pd.read_sql_query(query, conn)\n",
    "\n",
    "# Display the result\n",
    "print(result_df)"
   ]
  },
  {
   "cell_type": "markdown",
   "metadata": {},
   "source": [
    "Query 5"
   ]
  },
  {
   "cell_type": "code",
   "execution_count": 43,
   "metadata": {},
   "outputs": [
    {
     "name": "stdout",
     "output_type": "stream",
     "text": [
      "                                                 Name    Price\n",
      "0    Skechers Slip-ins: Ultra Flex 3.0 - Brisk-Spec\\n  4583.00\n",
      "1       Skechers Slip-ins: Hypno-Flash 2.0 - Vexlux\\n  4583.00\n",
      "2   Skechers Slip-ins: Ultra Flex 3.0 - Smooth Step\\n  4583.00\n",
      "3                               Grey Sneakers for Men  2995.00\n",
      "4                        Olive/black sneakers for men  3795.00\n",
      "..                                                ...      ...\n",
      "94   Pacer Future Men's SneakersPuma Black-Puma Black  3744.90\n",
      "95  Vis2k 2000s Men's SneakersPUMA Navy-PUMA White...  2496.60\n",
      "96   Suede Iconix 23 Men's SneakersPersian Blue-Amber  2912.70\n",
      "97  ST Runner v3 L Men's SneakersPuma Black-Puma B...  2704.65\n",
      "98  Tazon Advance Bold Men's SneakersPUMA Black-PU...  2704.65\n",
      "\n",
      "[99 rows x 2 columns]\n"
     ]
    }
   ],
   "source": [
    "query = \"SELECT Name, Price FROM my_table where Category = 'Men' and Price != 'None'\"\n",
    "result_df = pd.read_sql_query(query, conn)\n",
    "\n",
    "# Display the result\n",
    "print(result_df)"
   ]
  },
  {
   "cell_type": "markdown",
   "metadata": {},
   "source": [
    "SQL Query for the first csv file - Table2.csv"
   ]
  },
  {
   "cell_type": "code",
   "execution_count": 16,
   "metadata": {},
   "outputs": [
    {
     "data": {
      "text/plain": [
       "180"
      ]
     },
     "execution_count": 16,
     "metadata": {},
     "output_type": "execute_result"
    }
   ],
   "source": [
    "import pandas as pd\n",
    "import sqlite3\n",
    "\n",
    "# Read the CSV file  \n",
    "csv_file_path = r\"C:\\Users\\amanp\\OneDrive\\Desktop\\sister\\csv files\\Table2.csv\"  # File path\n",
    "df = pd.read_csv(csv_file_path, encoding='latin-1')\n",
    "\n",
    "# Create an in-memory SQLite database and write the DataFrame to it\n",
    "conn = sqlite3.connect(':memory:')  \n",
    "df.to_sql('my_table', conn, index=False, if_exists='replace')"
   ]
  },
  {
   "cell_type": "markdown",
   "metadata": {},
   "source": [
    "Query 1"
   ]
  },
  {
   "cell_type": "code",
   "execution_count": 2,
   "metadata": {},
   "outputs": [
    {
     "name": "stdout",
     "output_type": "stream",
     "text": [
      "         StyleCode  CountOfSizes\n",
      "0    FGC0Z7045232A             3\n",
      "1    FLC0260T0642A             0\n",
      "2    FGC0Y9032092A             0\n",
      "3    FGC0510S0052A             0\n",
      "4    FGC0H40U8422A             1\n",
      "..             ...           ...\n",
      "175     177102-NVY             5\n",
      "176     177102-ROS             4\n",
      "177    177102-LTPK             2\n",
      "178    220195-BKGY             1\n",
      "179     220195-GRY             2\n",
      "\n",
      "[180 rows x 2 columns]\n"
     ]
    }
   ],
   "source": [
    "query = \"select StyleCode, CountOfSizes from my_table\"\n",
    "result_df = pd.read_sql_query(query, conn)\n",
    "\n",
    "# Display the result\n",
    "print(result_df)"
   ]
  },
  {
   "cell_type": "markdown",
   "metadata": {},
   "source": [
    "Query 2"
   ]
  },
  {
   "cell_type": "code",
   "execution_count": 3,
   "metadata": {},
   "outputs": [
    {
     "name": "stdout",
     "output_type": "stream",
     "text": [
      "         StyleCode       Colour\n",
      "0    FGC0Z7045232A         GREY\n",
      "1    FLC0260T0642A        BLACK\n",
      "2    FGC0Y9032092A  OLIVE_BLACK\n",
      "3    FGC0510S0052A         SAND\n",
      "4    FGC0H40U8422A         BLUE\n",
      "..             ...          ...\n",
      "175     177102-NVY         BLUE\n",
      "176     177102-ROS    ROSE PINK\n",
      "177    177102-LTPK         PINK\n",
      "178    220195-BKGY        BLACK\n",
      "179     220195-GRY         GREY\n",
      "\n",
      "[180 rows x 2 columns]\n"
     ]
    }
   ],
   "source": [
    "query = \"select StyleCode, Colour from my_table\"\n",
    "result_df = pd.read_sql_query(query, conn)\n",
    "\n",
    "# Display the result\n",
    "print(result_df)"
   ]
  },
  {
   "cell_type": "markdown",
   "metadata": {},
   "source": [
    "Query 3 Method 1"
   ]
  },
  {
   "cell_type": "code",
   "execution_count": 4,
   "metadata": {},
   "outputs": [
    {
     "name": "stdout",
     "output_type": "stream",
     "text": [
      "  StyleCode\n",
      "0   1917971\n",
      "1   2027211\n",
      "2   2058831\n",
      "3   1987101\n",
      "4   2027201\n",
      "5   1826371\n",
      "6   1826981\n",
      "7   2044241\n",
      "8   2044281\n"
     ]
    }
   ],
   "source": [
    "query = \"select distinct StyleCode from (select A.StyleCode, A.Colour, B.Colour from my_table A, my_table B where A.StyleCode = B.StyleCode and A.Colour != B.Colour) as F\"\n",
    "result_df = pd.read_sql_query(query, conn)\n",
    "\n",
    "# Display the result\n",
    "print(result_df)"
   ]
  },
  {
   "cell_type": "markdown",
   "metadata": {},
   "source": [
    "Query 3 Method 2"
   ]
  },
  {
   "cell_type": "code",
   "execution_count": 5,
   "metadata": {},
   "outputs": [
    {
     "name": "stdout",
     "output_type": "stream",
     "text": [
      "  StyleCode\n",
      "0   1917971\n",
      "1   2027211\n",
      "2   2058831\n",
      "3   1987101\n",
      "4   2027201\n",
      "5   1826371\n",
      "6   1826981\n",
      "7   2044241\n",
      "8   2044281\n"
     ]
    }
   ],
   "source": [
    "query = \"select distinct A.StyleCode from my_table A, my_table B where A.StyleCode = B.StyleCode and A.Colour != B.Colour\"\n",
    "result_df = pd.read_sql_query(query, conn)\n",
    "\n",
    "# Display the result\n",
    "print(result_df)"
   ]
  },
  {
   "cell_type": "markdown",
   "metadata": {},
   "source": [
    "Query 4"
   ]
  },
  {
   "cell_type": "code",
   "execution_count": 6,
   "metadata": {},
   "outputs": [
    {
     "name": "stdout",
     "output_type": "stream",
     "text": [
      "         StyleCode       Colour  CountOfSizes\n",
      "0    FGC0Z7045232A         GREY             3\n",
      "1    FLC0260T0642A        BLACK             0\n",
      "2    FGC0Y9032092A  OLIVE_BLACK             0\n",
      "3    FGC0510S0052A         SAND             0\n",
      "4    FGC0H40U8422A         BLUE             1\n",
      "..             ...          ...           ...\n",
      "175     177102-NVY         BLUE             5\n",
      "176     177102-ROS    ROSE PINK             4\n",
      "177    177102-LTPK         PINK             2\n",
      "178    220195-BKGY        BLACK             1\n",
      "179     220195-GRY         GREY             2\n",
      "\n",
      "[180 rows x 3 columns]\n"
     ]
    }
   ],
   "source": [
    "query = \"select StyleCode, Colour, CountOfSizes from my_table\"\n",
    "result_df = pd.read_sql_query(query, conn)\n",
    "\n",
    "# Display the result\n",
    "print(result_df)"
   ]
  },
  {
   "cell_type": "markdown",
   "metadata": {},
   "source": [
    "Query 5"
   ]
  },
  {
   "cell_type": "code",
   "execution_count": 7,
   "metadata": {},
   "outputs": [
    {
     "name": "stdout",
     "output_type": "stream",
     "text": [
      "        StyleCode Colour\n",
      "0   FLC0260T0642A  BLACK\n",
      "1       377333_02  BLACK\n",
      "2       384855_04  BLACK\n",
      "3       384855_11  BLACK\n",
      "4       377048_01  BLACK\n",
      "5       380367_01  BLACK\n",
      "6      DZ2628-102  BLACK\n",
      "7      DM9537-001  BLACK\n",
      "8      FB8875-001  BLACK\n",
      "9      DA6364-001  BLACK\n",
      "10     DZ7273-001  BLACK\n",
      "11         EG4959  BLACK\n",
      "12         B75807  BLACK\n",
      "13         B75814  BLACK\n",
      "14         GW3848  BLACK\n",
      "15         FX3624  BLACK\n",
      "16         FX3632  BLACK\n",
      "17         GA0868  BLACK\n",
      "18         CM4822  BLACK\n",
      "19         GW8589  BLACK\n",
      "20         GX6784  BLACK\n",
      "21         GC0569  BLACK\n",
      "22         HP7611  BLACK\n",
      "23         IE6800  BLACK\n",
      "24        1917971  BLACK\n",
      "25        2027211  BLACK\n",
      "26        2058831  BLACK\n",
      "27        1987101  BLACK\n",
      "28        2027201  BLACK\n",
      "29        1826371  BLACK\n",
      "30        1826981  BLACK\n",
      "31        2044241  BLACK\n",
      "32        2044281  BLACK\n",
      "33    232451-BKRD  BLACK\n",
      "34     232458-BBK  BLACK\n",
      "35     149708-BKW  BLACK\n",
      "36    149591-BKGD  BLACK\n",
      "37    220195-BKGY  BLACK\n"
     ]
    }
   ],
   "source": [
    "query = \"select StyleCode, Colour from my_table where Colour = 'BLACK'\"\n",
    "result_df = pd.read_sql_query(query, conn)\n",
    "\n",
    "# Display the result\n",
    "print(result_df)"
   ]
  },
  {
   "cell_type": "markdown",
   "metadata": {},
   "source": [
    "SQL Query for the first csv file - Table3.csv"
   ]
  },
  {
   "cell_type": "code",
   "execution_count": 71,
   "metadata": {},
   "outputs": [
    {
     "data": {
      "text/plain": [
       "81"
      ]
     },
     "execution_count": 71,
     "metadata": {},
     "output_type": "execute_result"
    }
   ],
   "source": [
    "import pandas as pd\n",
    "import sqlite3\n",
    "\n",
    "# Read the CSV file  \n",
    "csv_file_path = r\"C:\\Users\\amanp\\OneDrive\\Desktop\\sister\\csv files\\Table3.csv\"  # File path\n",
    "df = pd.read_csv(csv_file_path, encoding='latin-1')\n",
    "\n",
    "# Create an in-memory SQLite database and write the DataFrame to it\n",
    "conn = sqlite3.connect(':memory:')  \n",
    "df.to_sql('my_table', conn, index=False, if_exists='replace')"
   ]
  },
  {
   "cell_type": "markdown",
   "metadata": {},
   "source": [
    "Query 1"
   ]
  },
  {
   "cell_type": "code",
   "execution_count": 72,
   "metadata": {},
   "outputs": [
    {
     "name": "stdout",
     "output_type": "stream",
     "text": [
      "    ID  Comfort\n",
      "0    1      NaN\n",
      "1    2      NaN\n",
      "2    3      NaN\n",
      "3    4      NaN\n",
      "4    5      NaN\n",
      "..  ..      ...\n",
      "76  92      NaN\n",
      "77  93      NaN\n",
      "78  94      NaN\n",
      "79  95      NaN\n",
      "80  96      NaN\n",
      "\n",
      "[81 rows x 2 columns]\n"
     ]
    }
   ],
   "source": [
    "query = \"select ID, Comfort from my_table\" # while working with csv some characters automatically get generated in the first column of first row\n",
    "result_df = pd.read_sql_query(query, conn)\n",
    "\n",
    "# Display the result\n",
    "print(result_df)"
   ]
  },
  {
   "cell_type": "markdown",
   "metadata": {},
   "source": [
    "Query 2"
   ]
  },
  {
   "cell_type": "code",
   "execution_count": 28,
   "metadata": {},
   "outputs": [
    {
     "name": "stdout",
     "output_type": "stream",
     "text": [
      "    Rating\n",
      "0      4.5\n",
      "1      4.6\n",
      "2      4.5\n",
      "3      4.1\n",
      "4      5.0\n",
      "5      4.9\n",
      "6      4.6\n",
      "7      4.8\n",
      "8      4.4\n",
      "9      4.8\n",
      "10     4.1\n",
      "11     4.1\n",
      "12     4.0\n",
      "13     4.0\n",
      "14     4.0\n",
      "15     4.2\n",
      "16     4.1\n",
      "17     4.3\n",
      "18     4.1\n",
      "19     4.0\n",
      "20     4.3\n",
      "21     4.3\n",
      "22     4.0\n",
      "23     4.1\n",
      "24     4.8\n",
      "25     4.8\n",
      "26     4.8\n",
      "27     4.8\n",
      "28     4.6\n",
      "29     4.6\n",
      "30     4.4\n",
      "31     4.4\n",
      "32     4.2\n",
      "33     4.2\n",
      "34     4.1\n",
      "35     4.2\n",
      "36     4.7\n",
      "37     4.4\n",
      "38     4.6\n",
      "39     4.2\n",
      "40     4.6\n",
      "41     4.5\n",
      "42     4.3\n",
      "43     4.6\n",
      "44     4.6\n",
      "45     4.7\n",
      "46     4.2\n",
      "47     4.4\n",
      "48     4.5\n",
      "49     4.5\n",
      "50     4.6\n",
      "51     4.9\n",
      "52     4.7\n",
      "53     4.7\n",
      "54     4.8\n",
      "55     4.7\n",
      "56     5.0\n",
      "57     4.3\n",
      "58     4.9\n"
     ]
    }
   ],
   "source": [
    "query = \"select Rating from my_table where Rating>=4\"\n",
    "result_df = pd.read_sql_query(query, conn)\n",
    "\n",
    "# Display the result\n",
    "print(result_df)"
   ]
  },
  {
   "cell_type": "markdown",
   "metadata": {},
   "source": [
    "Query 3"
   ]
  },
  {
   "cell_type": "code",
   "execution_count": 29,
   "metadata": {},
   "outputs": [
    {
     "name": "stdout",
     "output_type": "stream",
     "text": [
      "    Reviews\n",
      "0       NaN\n",
      "1       NaN\n",
      "2       NaN\n",
      "3       NaN\n",
      "4       NaN\n",
      "..      ...\n",
      "76   1235.0\n",
      "77      3.0\n",
      "78      1.0\n",
      "79     40.0\n",
      "80     41.0\n",
      "\n",
      "[81 rows x 1 columns]\n"
     ]
    }
   ],
   "source": [
    "query = \"select Reviews from my_table\"\n",
    "result_df = pd.read_sql_query(query, conn)\n",
    "\n",
    "# Display the result\n",
    "print(result_df)"
   ]
  },
  {
   "cell_type": "markdown",
   "metadata": {},
   "source": [
    "Query 4"
   ]
  },
  {
   "cell_type": "code",
   "execution_count": 30,
   "metadata": {},
   "outputs": [
    {
     "name": "stdout",
     "output_type": "stream",
     "text": [
      "    Performance\n",
      "0           4.0\n",
      "1           5.0\n",
      "2           5.0\n",
      "3           5.0\n",
      "4           5.0\n",
      "5           5.0\n",
      "6           5.0\n",
      "7           5.0\n",
      "8           5.0\n",
      "9           4.0\n",
      "10          5.0\n",
      "11          4.0\n",
      "12          4.0\n",
      "13          5.0\n",
      "14          5.0\n",
      "15          5.0\n",
      "16          5.0\n",
      "17          4.2\n",
      "18          4.2\n",
      "19          4.5\n",
      "20          4.3\n",
      "21          4.2\n",
      "22          4.0\n",
      "23          4.0\n",
      "24          4.2\n",
      "25          4.1\n",
      "26          4.2\n",
      "27          3.9\n",
      "28          4.1\n",
      "29          4.1\n",
      "30          4.2\n",
      "31          4.3\n",
      "32          4.0\n",
      "33          4.2\n",
      "34          4.0\n",
      "35          4.1\n",
      "36          5.0\n",
      "37          4.0\n",
      "38          4.0\n",
      "39          4.0\n",
      "40          5.0\n",
      "41          5.0\n",
      "42          5.0\n",
      "43          4.0\n",
      "44          4.0\n"
     ]
    }
   ],
   "source": [
    "# Quality = Performance and performance is quantifiied at a scale between 1 to 5\n",
    "query = \"select Performance from my_table where Performance>=3.5\"\n",
    "result_df = pd.read_sql_query(query, conn)\n",
    "\n",
    "# Display the result\n",
    "print(result_df)"
   ]
  },
  {
   "cell_type": "markdown",
   "metadata": {},
   "source": [
    "SQL Query for JOINS"
   ]
  },
  {
   "cell_type": "code",
   "execution_count": 75,
   "metadata": {},
   "outputs": [
    {
     "data": {
      "text/plain": [
       "81"
      ]
     },
     "execution_count": 75,
     "metadata": {},
     "output_type": "execute_result"
    }
   ],
   "source": [
    "import pandas as pd\n",
    "import sqlite3\n",
    "\n",
    "# Read the CSV file  \n",
    "csv_file_path1 = r\"C:\\Users\\amanp\\OneDrive\\Desktop\\sister\\csv files\\Table1.csv\"  # File path\n",
    "df1 = pd.read_csv(csv_file_path1, encoding='latin-1')\n",
    "\n",
    "csv_file_path2 = r\"C:\\Users\\amanp\\OneDrive\\Desktop\\sister\\csv files\\Table2.csv\"  # File path\n",
    "df2 = pd.read_csv(csv_file_path2, encoding='latin-1')\n",
    "\n",
    "csv_file_path3 = r\"C:\\Users\\amanp\\OneDrive\\Desktop\\sister\\csv files\\Table3.csv\"  # File path\n",
    "df3 = pd.read_csv(csv_file_path3, encoding='latin-1')\n",
    "\n",
    "\n",
    "# Create an in-memory SQLite database and write the DataFrame to it\n",
    "conn = sqlite3.connect(':memory:')  \n",
    "df1.to_sql('table1', conn, index=False, if_exists='replace')  \n",
    "df2.to_sql('table2', conn, index=False, if_exists='replace')\n",
    "df3.to_sql('table3', conn, index=False, if_exists='replace')\n"
   ]
  },
  {
   "cell_type": "markdown",
   "metadata": {},
   "source": [
    "Query 1"
   ]
  },
  {
   "cell_type": "code",
   "execution_count": 76,
   "metadata": {},
   "outputs": [
    {
     "name": "stdout",
     "output_type": "stream",
     "text": [
      "   ID                           Name  CountOfSizes  Rating\n",
      "0  52  Nike Air Trainer 1Men's shoes            13     5.0\n",
      "1  94                 AIR CUSHIONING             0     5.0\n",
      "2  94                 AIR CUSHIONING             2     5.0\n",
      "3  94                 AIR CUSHIONING             5     5.0\n"
     ]
    }
   ],
   "source": [
    "# Different colours of same product have different sizes but same rating\n",
    "query = \"SELECT a.ID, Name, CountOfSizes, Rating FROM table1 a inner join table2 b on a.ID = b.ID inner join table3 c on b.ID = c.ID where c.rating = 5\"\n",
    "result_df = pd.read_sql_query(query, conn)\n",
    "\n",
    "# Display the result\n",
    "print(result_df)"
   ]
  },
  {
   "cell_type": "markdown",
   "metadata": {},
   "source": [
    "Query 2"
   ]
  },
  {
   "cell_type": "code",
   "execution_count": 77,
   "metadata": {},
   "outputs": [
    {
     "name": "stdout",
     "output_type": "stream",
     "text": [
      "  category  Comfort Rating\n",
      "0      MEN        3.889474\n",
      "1    WOMEN        3.920000\n"
     ]
    }
   ],
   "source": [
    "query = \"select a.Category, avg(b.comfort) as 'Comfort Rating' from table1 a inner join table3 b on a.ID = b.ID group by a.category\"\n",
    "result_df = pd.read_sql_query(query, conn)\n",
    "\n",
    "# Display the result\n",
    "print(result_df)"
   ]
  },
  {
   "cell_type": "markdown",
   "metadata": {},
   "source": [
    "Query 3"
   ]
  },
  {
   "cell_type": "code",
   "execution_count": 78,
   "metadata": {},
   "outputs": [
    {
     "name": "stdout",
     "output_type": "stream",
     "text": [
      "                                                 Name  Performance\n",
      "0                                      Samba OG Shoes          4.5\n",
      "1                           Nike Air Max 1Men's shoes          5.0\n",
      "2              Nike Blazer Low '77 VintageMen's Shoes          5.0\n",
      "3   PUMA x LAMELO BALL MB.03 Toxic Men's Basketbal...          5.0\n",
      "4   Viz Runner Repeat Men's Running SneakersPuma B...          5.0\n",
      "5   Viz Runner Repeat Wide Men's Running ShoesPuma...          5.0\n",
      "6   PUMA Serve Pro Men's SneakersPuma Black-Puma B...          5.0\n",
      "7   Astro Kick SL Men's SneakersPuma White-Puma Te...          5.0\n",
      "8   Star Vital Women's Training ShoesPUMA Black-PU...          5.0\n",
      "9   ST Runner v3 L Men's SneakersPuma White-Puma W...          5.0\n",
      "10  Softride Enzo Evo Running ShoesPuma Black-CAST...          5.0\n",
      "11  Redon Bungee ShoesPuma Black-Puma White-High R...          5.0\n",
      "12  Star Vital Women's Training ShoesPuma Black-Ro...          5.0\n",
      "13   Pacer Future Men's SneakersPuma Black-Puma Black          5.0\n",
      "14  Women's Slopeside Villageâ¢ Omni-Heatâ¢ Mid ...          5.0\n",
      "15             Women's Facetâ¢ 75 Mid OutDryâ¢ Shoe          5.0\n",
      "16                      Menâs Fairbanksâ¢ Low Shoe          5.0\n",
      "17                      Men's Firecampâ¢ Remesh Shoe          5.0\n"
     ]
    }
   ],
   "source": [
    "query = \"select name, performance from table1 a inner join table3 b on a.ID = b.ID where performance >= (select avg(performance) from table3) order by performance\"\n",
    "result_df = pd.read_sql_query(query, conn)\n",
    "\n",
    "# Display the result\n",
    "print(result_df)"
   ]
  },
  {
   "cell_type": "markdown",
   "metadata": {},
   "source": [
    "Query 4"
   ]
  },
  {
   "cell_type": "code",
   "execution_count": 79,
   "metadata": {},
   "outputs": [
    {
     "name": "stdout",
     "output_type": "stream",
     "text": [
      "                                                 Name  Comfort\n",
      "0                                  Ultimashow Shoes\\n      3.9\n",
      "1                                   WIND RAISER SHOES      3.9\n",
      "2                                     SUPERSTAR SHOES      4.0\n",
      "3                                     SUPERSTAR SHOES      4.0\n",
      "4                                      Samba OG Shoes      4.0\n",
      "5                                    Ultraboost Light      4.0\n",
      "6                          FLUIDFLOW 2.0 RUNNING SHOE      4.0\n",
      "7                                Ultraboost 1.0 Shoes      4.0\n",
      "8                                 HYPERON 1.0 SHOES\\n      4.0\n",
      "9               Grand Court Cloudfoam Comfort Shoes\\n      4.0\n",
      "10                                 Pureboost 22 Shoes      4.0\n",
      "11                                  SHEENWALK SHOES\\n      4.0\n",
      "12                                 SOLARGLIDE 6 Shoes      4.0\n",
      "13  Women's Slopeside Villageâ¢ Omni-Heatâ¢ Mid ...      4.0\n",
      "14             Men's Facetâ¢ 75 Alpha OutDryâ¢ Shoe      4.0\n",
      "15         Men's Trailstormâ¢ Ascend Waterproof Shoe      4.0\n",
      "16                                     Samba OG Shoes      4.1\n",
      "17                                     Galaxy 6 Shoes      4.1\n",
      "18     Lite Racer Adapt 4.0 Cloudfoam Slip-On Shoes\\n      4.1\n",
      "19             Women's Facetâ¢ 75 Mid OutDryâ¢ Shoe      4.2\n",
      "20                               Women's Flow Fremont      5.0\n",
      "21                      Menâs Fairbanksâ¢ Low Shoe      5.0\n"
     ]
    }
   ],
   "source": [
    "query = \"select name, comfort from table1 a inner join table3 b on a.ID = b.ID where comfort >= (select avg(comfort) from table3) order by comfort\"\n",
    "result_df = pd.read_sql_query(query, conn)\n",
    "\n",
    "# Display the result\n",
    "print(result_df)"
   ]
  },
  {
   "cell_type": "markdown",
   "metadata": {},
   "source": [
    "Query 5"
   ]
  },
  {
   "cell_type": "code",
   "execution_count": 82,
   "metadata": {},
   "outputs": [
    {
     "data": {
      "text/html": [
       "<div>\n",
       "<style scoped>\n",
       "    .dataframe tbody tr th:only-of-type {\n",
       "        vertical-align: middle;\n",
       "    }\n",
       "\n",
       "    .dataframe tbody tr th {\n",
       "        vertical-align: top;\n",
       "    }\n",
       "\n",
       "    .dataframe thead th {\n",
       "        text-align: right;\n",
       "    }\n",
       "</style>\n",
       "<table border=\"1\" class=\"dataframe\">\n",
       "  <thead>\n",
       "    <tr style=\"text-align: right;\">\n",
       "      <th></th>\n",
       "      <th>ï»¿Waste Column</th>\n",
       "      <th>ID</th>\n",
       "      <th>Reviews</th>\n",
       "      <th>Comfort</th>\n",
       "      <th>Performance</th>\n",
       "      <th>Rating</th>\n",
       "    </tr>\n",
       "  </thead>\n",
       "  <tbody>\n",
       "    <tr>\n",
       "      <th>0</th>\n",
       "      <td>NaN</td>\n",
       "      <td>1</td>\n",
       "      <td>NaN</td>\n",
       "      <td>NaN</td>\n",
       "      <td>NaN</td>\n",
       "      <td>NaN</td>\n",
       "    </tr>\n",
       "    <tr>\n",
       "      <th>1</th>\n",
       "      <td>NaN</td>\n",
       "      <td>2</td>\n",
       "      <td>NaN</td>\n",
       "      <td>NaN</td>\n",
       "      <td>NaN</td>\n",
       "      <td>NaN</td>\n",
       "    </tr>\n",
       "    <tr>\n",
       "      <th>2</th>\n",
       "      <td>NaN</td>\n",
       "      <td>3</td>\n",
       "      <td>NaN</td>\n",
       "      <td>NaN</td>\n",
       "      <td>NaN</td>\n",
       "      <td>NaN</td>\n",
       "    </tr>\n",
       "    <tr>\n",
       "      <th>3</th>\n",
       "      <td>NaN</td>\n",
       "      <td>4</td>\n",
       "      <td>NaN</td>\n",
       "      <td>NaN</td>\n",
       "      <td>NaN</td>\n",
       "      <td>NaN</td>\n",
       "    </tr>\n",
       "    <tr>\n",
       "      <th>4</th>\n",
       "      <td>NaN</td>\n",
       "      <td>5</td>\n",
       "      <td>NaN</td>\n",
       "      <td>NaN</td>\n",
       "      <td>NaN</td>\n",
       "      <td>NaN</td>\n",
       "    </tr>\n",
       "    <tr>\n",
       "      <th>...</th>\n",
       "      <td>...</td>\n",
       "      <td>...</td>\n",
       "      <td>...</td>\n",
       "      <td>...</td>\n",
       "      <td>...</td>\n",
       "      <td>...</td>\n",
       "    </tr>\n",
       "    <tr>\n",
       "      <th>76</th>\n",
       "      <td>NaN</td>\n",
       "      <td>92</td>\n",
       "      <td>1235.0</td>\n",
       "      <td>NaN</td>\n",
       "      <td>NaN</td>\n",
       "      <td>4.8</td>\n",
       "    </tr>\n",
       "    <tr>\n",
       "      <th>77</th>\n",
       "      <td>NaN</td>\n",
       "      <td>93</td>\n",
       "      <td>3.0</td>\n",
       "      <td>NaN</td>\n",
       "      <td>NaN</td>\n",
       "      <td>4.7</td>\n",
       "    </tr>\n",
       "    <tr>\n",
       "      <th>78</th>\n",
       "      <td>NaN</td>\n",
       "      <td>94</td>\n",
       "      <td>1.0</td>\n",
       "      <td>NaN</td>\n",
       "      <td>NaN</td>\n",
       "      <td>5.0</td>\n",
       "    </tr>\n",
       "    <tr>\n",
       "      <th>79</th>\n",
       "      <td>NaN</td>\n",
       "      <td>95</td>\n",
       "      <td>40.0</td>\n",
       "      <td>NaN</td>\n",
       "      <td>NaN</td>\n",
       "      <td>4.3</td>\n",
       "    </tr>\n",
       "    <tr>\n",
       "      <th>80</th>\n",
       "      <td>NaN</td>\n",
       "      <td>96</td>\n",
       "      <td>41.0</td>\n",
       "      <td>NaN</td>\n",
       "      <td>NaN</td>\n",
       "      <td>4.9</td>\n",
       "    </tr>\n",
       "  </tbody>\n",
       "</table>\n",
       "<p>81 rows × 6 columns</p>\n",
       "</div>"
      ],
      "text/plain": [
       "    ï»¿Waste Column  ID  Reviews  Comfort  Performance  Rating\n",
       "0               NaN   1      NaN      NaN          NaN     NaN\n",
       "1               NaN   2      NaN      NaN          NaN     NaN\n",
       "2               NaN   3      NaN      NaN          NaN     NaN\n",
       "3               NaN   4      NaN      NaN          NaN     NaN\n",
       "4               NaN   5      NaN      NaN          NaN     NaN\n",
       "..              ...  ..      ...      ...          ...     ...\n",
       "76              NaN  92   1235.0      NaN          NaN     4.8\n",
       "77              NaN  93      3.0      NaN          NaN     4.7\n",
       "78              NaN  94      1.0      NaN          NaN     5.0\n",
       "79              NaN  95     40.0      NaN          NaN     4.3\n",
       "80              NaN  96     41.0      NaN          NaN     4.9\n",
       "\n",
       "[81 rows x 6 columns]"
      ]
     },
     "execution_count": 82,
     "metadata": {},
     "output_type": "execute_result"
    }
   ],
   "source": [
    "df3"
   ]
  },
  {
   "cell_type": "code",
   "execution_count": 85,
   "metadata": {},
   "outputs": [
    {
     "name": "stdout",
     "output_type": "stream",
     "text": [
      "         StyleCode                            Name   Price category  \\\n",
      "0    FGC0Z7045232A           Grey Sneakers for Men  2995.0      MEN   \n",
      "1    FLC0260T0642A  Black high-top boots for women  6995.0    WOMEN   \n",
      "2    FGC0Y9032092A    Olive/black sneakers for men  3795.0      MEN   \n",
      "3    FGC0510S0052A        Sand Sports Shoe for men  7995.0      MEN   \n",
      "4    FGC0H40U8422A           Blue sneakers for men  6995.0      MEN   \n",
      "..             ...                             ...     ...      ...   \n",
      "175    177102-LTPK                 UNO - EVERYWEAR  6999.0    WOMEN   \n",
      "176     177102-ROS                 UNO - EVERYWEAR  6999.0    WOMEN   \n",
      "177     177102-NVY                 UNO - EVERYWEAR  6999.0    WOMEN   \n",
      "178    220195-BKGY   MAX CUSHIONING ARCH FIT -ENIG  9499.0      MEN   \n",
      "179     220195-GRY   MAX CUSHIONING ARCH FIT -ENIG  9499.0      MEN   \n",
      "\n",
      "     CountOfSizes  NumberOfColours  \n",
      "0               3                1  \n",
      "1               0                1  \n",
      "2               0                1  \n",
      "3               0                1  \n",
      "4               1                1  \n",
      "..            ...              ...  \n",
      "175             2                3  \n",
      "176             4                3  \n",
      "177             5                3  \n",
      "178             1                2  \n",
      "179             2                2  \n",
      "\n",
      "[180 rows x 6 columns]\n"
     ]
    }
   ],
   "source": [
    "query = \"select StyleCode, Name, Price, Category, CountOfSizes, NumberOfColours from table1 a inner join table2 b on a.ID = b.ID\"\n",
    "result_df = pd.read_sql_query(query, conn)\n",
    "\n",
    "# Display the result\n",
    "print(result_df)"
   ]
  },
  {
   "cell_type": "markdown",
   "metadata": {},
   "source": [
    "Query 6"
   ]
  },
  {
   "cell_type": "code",
   "execution_count": 86,
   "metadata": {},
   "outputs": [
    {
     "name": "stdout",
     "output_type": "stream",
     "text": [
      "                             name  rating  Respective Sizes\n",
      "0      Nike Dunk LowWomen's Shoes     4.5                11\n",
      "1     Nike Air Max 1Women's shoes     4.6                 1\n",
      "2     Nike Air Max 1Women's shoes     4.6                 9\n",
      "3     Nike Air Max 1Women's shoes     4.6                10\n",
      "4     Nike Air Max 1Women's shoes     4.6                10\n",
      "..                            ...     ...               ...\n",
      "92                 AIR CUSHIONING     5.0                 0\n",
      "93                 AIR CUSHIONING     5.0                 2\n",
      "94                 AIR CUSHIONING     5.0                 5\n",
      "95  MAX CUSHIONING ARCH FIT -ENIG     4.9                 1\n",
      "96  MAX CUSHIONING ARCH FIT -ENIG     4.9                 2\n",
      "\n",
      "[97 rows x 3 columns]\n"
     ]
    }
   ],
   "source": [
    "query = \"select p.Name, p.rating, c.CountOfSizes as 'Respective Sizes' from (select b.ID, name, rating from table1 a inner join table3 b on a.ID = b.ID where rating >= (select avg(rating) from table3) order by rating) p inner join table2 c on p.ID =  c.ID\"\n",
    "result_df = pd.read_sql_query(query, conn)\n",
    "\n",
    "# Display the result\n",
    "print(result_df)"
   ]
  }
 ],
 "metadata": {
  "kernelspec": {
   "display_name": "Python 3",
   "language": "python",
   "name": "python3"
  },
  "language_info": {
   "codemirror_mode": {
    "name": "ipython",
    "version": 3
   },
   "file_extension": ".py",
   "mimetype": "text/x-python",
   "name": "python",
   "nbconvert_exporter": "python",
   "pygments_lexer": "ipython3",
   "version": "3.10.4"
  }
 },
 "nbformat": 4,
 "nbformat_minor": 2
}
